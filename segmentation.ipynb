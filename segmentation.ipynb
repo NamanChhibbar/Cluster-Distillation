{
 "cells": [
  {
   "cell_type": "code",
   "execution_count": 2,
   "metadata": {},
   "outputs": [],
   "source": [
    "# !pip install -qU wtpsplit pandas tqdm datasets"
   ]
  },
  {
   "cell_type": "code",
   "execution_count": null,
   "metadata": {},
   "outputs": [],
   "source": [
    "from wtpsplit import SaT\n",
    "import pandas as pd\n",
    "import re\n",
    "from tqdm import tqdm\n",
    "from datasets import load_dataset\n",
    "\n",
    "from utils import get_device"
   ]
  },
  {
   "cell_type": "markdown",
   "metadata": {},
   "source": [
    "https://huggingface.co/segment-any-text/sat-12l-sm"
   ]
  },
  {
   "cell_type": "code",
   "execution_count": null,
   "metadata": {},
   "outputs": [
    {
     "data": {
      "text/plain": [
       "<wtpsplit.SaT at 0x17facfb30>"
      ]
     },
     "execution_count": 5,
     "metadata": {},
     "output_type": "execute_result"
    }
   ],
   "source": [
    "device = get_device()\n",
    "sat = SaT('sat-12l')\n",
    "sat.half().to(device)\n",
    "sat"
   ]
  },
  {
   "cell_type": "markdown",
   "metadata": {},
   "source": [
    "https://huggingface.co/datasets/ubaada/booksum-complete-cleaned"
   ]
  },
  {
   "cell_type": "code",
   "execution_count": null,
   "metadata": {},
   "outputs": [],
   "source": [
    "book_data = load_dataset('ubaada/booksum-complete-cleaned', 'books')"
   ]
  },
  {
   "cell_type": "code",
   "execution_count": null,
   "metadata": {},
   "outputs": [
    {
     "name": "stdout",
     "output_type": "stream",
     "text": [
      "PART I Book I. The History Of A Family Chapter I. Fyodor Pavlovitch Karamazov\n",
      "\n",
      "\n",
      "Alexey Fyodorovitch Karamazov was the third son of Fyodor Pavlovitch\n",
      "Karamazov, a land owner well known in our district in his own day, and\n",
      "still remembered among us owing to his gloomy and tragic death, which\n",
      "happened thirteen years ago, and which I shall describe in its proper\n",
      "place. For the present I will only say that this \"landowner\"--for so we\n",
      "used to call him, although he hardly spent a day of his life on his \n"
     ]
    }
   ],
   "source": [
    "print(book_data['test'][0]['text'][:500])"
   ]
  },
  {
   "cell_type": "code",
   "execution_count": null,
   "metadata": {},
   "outputs": [
    {
     "name": "stderr",
     "output_type": "stream",
     "text": [
      "Processing chapters: 100%|██████████| 17/17 [12:16<00:00, 43.34s/it]\n"
     ]
    }
   ],
   "source": [
    "post_splits = []\n",
    "\n",
    "for book in tqdm(book_data['test'], desc='Processing chapters'):\n",
    "  split = sat.split(book['text'])\n",
    "  for i, segment in enumerate(split):\n",
    "    post_splits.append({'index': i, 'bid': book['bid'], 'segment': segment})"
   ]
  },
  {
   "cell_type": "code",
   "execution_count": 6,
   "metadata": {},
   "outputs": [
    {
     "data": {
      "text/plain": [
       "{'index': 0, 'bid': '28054', 'segment': 'PART I '}"
      ]
     },
     "execution_count": 6,
     "metadata": {},
     "output_type": "execute_result"
    }
   ],
   "source": [
    "post_splits[0]"
   ]
  },
  {
   "cell_type": "code",
   "execution_count": 7,
   "metadata": {},
   "outputs": [],
   "source": [
    "df = pd.DataFrame(post_splits)"
   ]
  },
  {
   "cell_type": "code",
   "execution_count": 8,
   "metadata": {},
   "outputs": [
    {
     "data": {
      "text/html": [
       "<div>\n",
       "<style scoped>\n",
       "    .dataframe tbody tr th:only-of-type {\n",
       "        vertical-align: middle;\n",
       "    }\n",
       "\n",
       "    .dataframe tbody tr th {\n",
       "        vertical-align: top;\n",
       "    }\n",
       "\n",
       "    .dataframe thead th {\n",
       "        text-align: right;\n",
       "    }\n",
       "</style>\n",
       "<table border=\"1\" class=\"dataframe\">\n",
       "  <thead>\n",
       "    <tr style=\"text-align: right;\">\n",
       "      <th></th>\n",
       "      <th>index</th>\n",
       "      <th>bid</th>\n",
       "      <th>segment</th>\n",
       "    </tr>\n",
       "  </thead>\n",
       "  <tbody>\n",
       "    <tr>\n",
       "      <th>0</th>\n",
       "      <td>0</td>\n",
       "      <td>28054</td>\n",
       "      <td>PART I</td>\n",
       "    </tr>\n",
       "    <tr>\n",
       "      <th>1</th>\n",
       "      <td>1</td>\n",
       "      <td>28054</td>\n",
       "      <td>Book I. The History Of A Family Chapter I.</td>\n",
       "    </tr>\n",
       "    <tr>\n",
       "      <th>2</th>\n",
       "      <td>2</td>\n",
       "      <td>28054</td>\n",
       "      <td>Fyodor Pavlovitch Karamazov\\n\\n\\n</td>\n",
       "    </tr>\n",
       "    <tr>\n",
       "      <th>3</th>\n",
       "      <td>3</td>\n",
       "      <td>28054</td>\n",
       "      <td>Alexey Fyodorovitch Karamazov was the third so...</td>\n",
       "    </tr>\n",
       "    <tr>\n",
       "      <th>4</th>\n",
       "      <td>4</td>\n",
       "      <td>28054</td>\n",
       "      <td>For the present I will only say that this \"lan...</td>\n",
       "    </tr>\n",
       "  </tbody>\n",
       "</table>\n",
       "</div>"
      ],
      "text/plain": [
       "   index    bid                                            segment\n",
       "0      0  28054                                            PART I \n",
       "1      1  28054        Book I. The History Of A Family Chapter I. \n",
       "2      2  28054                  Fyodor Pavlovitch Karamazov\\n\\n\\n\n",
       "3      3  28054  Alexey Fyodorovitch Karamazov was the third so...\n",
       "4      4  28054  For the present I will only say that this \"lan..."
      ]
     },
     "execution_count": 8,
     "metadata": {},
     "output_type": "execute_result"
    }
   ],
   "source": [
    "df.head(5)"
   ]
  },
  {
   "cell_type": "code",
   "execution_count": 9,
   "metadata": {},
   "outputs": [],
   "source": [
    "df['segment'] = df['segment'].apply(lambda x: re.sub(r'(?<!\\n)\\n(?!\\n)', ' ', x))\n",
    "df['segment'] = df['segment'].apply(lambda x: re.sub(r'\\n{2,}', '', x)) \n",
    "df['segment'] = df['segment'].apply(lambda x: re.sub(r'\\n', ' ', x))\n",
    "df['segment'] = df['segment'].apply(lambda x: x.rstrip())"
   ]
  },
  {
   "cell_type": "code",
   "execution_count": 10,
   "metadata": {},
   "outputs": [],
   "source": [
    "df.to_csv('processed_chapters.csv', index=False)"
   ]
  },
  {
   "cell_type": "code",
   "execution_count": 11,
   "metadata": {},
   "outputs": [
    {
     "data": {
      "text/html": [
       "<div>\n",
       "<style scoped>\n",
       "    .dataframe tbody tr th:only-of-type {\n",
       "        vertical-align: middle;\n",
       "    }\n",
       "\n",
       "    .dataframe tbody tr th {\n",
       "        vertical-align: top;\n",
       "    }\n",
       "\n",
       "    .dataframe thead th {\n",
       "        text-align: right;\n",
       "    }\n",
       "</style>\n",
       "<table border=\"1\" class=\"dataframe\">\n",
       "  <thead>\n",
       "    <tr style=\"text-align: right;\">\n",
       "      <th></th>\n",
       "      <th>index</th>\n",
       "      <th>bid</th>\n",
       "      <th>segment</th>\n",
       "    </tr>\n",
       "  </thead>\n",
       "  <tbody>\n",
       "    <tr>\n",
       "      <th>0</th>\n",
       "      <td>0</td>\n",
       "      <td>28054</td>\n",
       "      <td>PART I</td>\n",
       "    </tr>\n",
       "    <tr>\n",
       "      <th>1</th>\n",
       "      <td>1</td>\n",
       "      <td>28054</td>\n",
       "      <td>Book I. The History Of A Family Chapter I.</td>\n",
       "    </tr>\n",
       "    <tr>\n",
       "      <th>2</th>\n",
       "      <td>2</td>\n",
       "      <td>28054</td>\n",
       "      <td>Fyodor Pavlovitch Karamazov</td>\n",
       "    </tr>\n",
       "    <tr>\n",
       "      <th>3</th>\n",
       "      <td>3</td>\n",
       "      <td>28054</td>\n",
       "      <td>Alexey Fyodorovitch Karamazov was the third so...</td>\n",
       "    </tr>\n",
       "    <tr>\n",
       "      <th>4</th>\n",
       "      <td>4</td>\n",
       "      <td>28054</td>\n",
       "      <td>For the present I will only say that this \"lan...</td>\n",
       "    </tr>\n",
       "    <tr>\n",
       "      <th>...</th>\n",
       "      <td>...</td>\n",
       "      <td>...</td>\n",
       "      <td>...</td>\n",
       "    </tr>\n",
       "    <tr>\n",
       "      <th>18173</th>\n",
       "      <td>18173</td>\n",
       "      <td>28054</td>\n",
       "      <td>If the deceased was a priest as well as a monk...</td>\n",
       "    </tr>\n",
       "    <tr>\n",
       "      <th>18174</th>\n",
       "      <td>18174</td>\n",
       "      <td>28054</td>\n",
       "      <td>7 i.e. a chime of bells.</td>\n",
       "    </tr>\n",
       "    <tr>\n",
       "      <th>18175</th>\n",
       "      <td>18175</td>\n",
       "      <td>28054</td>\n",
       "      <td>8 Literally:</td>\n",
       "    </tr>\n",
       "    <tr>\n",
       "      <th>18176</th>\n",
       "      <td>18176</td>\n",
       "      <td>28054</td>\n",
       "      <td>\"Did you get off with a long nose made at you?...</td>\n",
       "    </tr>\n",
       "    <tr>\n",
       "      <th>18177</th>\n",
       "      <td>18177</td>\n",
       "      <td>28054</td>\n",
       "      <td>9 Gogol is meant.</td>\n",
       "    </tr>\n",
       "  </tbody>\n",
       "</table>\n",
       "<p>18178 rows × 3 columns</p>\n",
       "</div>"
      ],
      "text/plain": [
       "       index    bid                                            segment\n",
       "0          0  28054                                             PART I\n",
       "1          1  28054         Book I. The History Of A Family Chapter I.\n",
       "2          2  28054                        Fyodor Pavlovitch Karamazov\n",
       "3          3  28054  Alexey Fyodorovitch Karamazov was the third so...\n",
       "4          4  28054  For the present I will only say that this \"lan...\n",
       "...      ...    ...                                                ...\n",
       "18173  18173  28054  If the deceased was a priest as well as a monk...\n",
       "18174  18174  28054                           7 i.e. a chime of bells.\n",
       "18175  18175  28054                                       8 Literally:\n",
       "18176  18176  28054  \"Did you get off with a long nose made at you?...\n",
       "18177  18177  28054                                  9 Gogol is meant.\n",
       "\n",
       "[18178 rows x 3 columns]"
      ]
     },
     "execution_count": 11,
     "metadata": {},
     "output_type": "execute_result"
    }
   ],
   "source": [
    "df.loc[df['bid'] == '28054']"
   ]
  }
 ],
 "metadata": {
  "kernelspec": {
   "display_name": "cluster",
   "language": "python",
   "name": "python3"
  },
  "language_info": {
   "codemirror_mode": {
    "name": "ipython",
    "version": 3
   },
   "file_extension": ".py",
   "mimetype": "text/x-python",
   "name": "python",
   "nbconvert_exporter": "python",
   "pygments_lexer": "ipython3",
   "version": "3.12.2"
  }
 },
 "nbformat": 4,
 "nbformat_minor": 2
}
