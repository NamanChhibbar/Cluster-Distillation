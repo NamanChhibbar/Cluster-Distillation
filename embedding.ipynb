{
 "cells": [
  {
   "cell_type": "markdown",
   "metadata": {},
   "source": [
    "# Notebook to Embed and Cluster Text Segments"
   ]
  },
  {
   "cell_type": "markdown",
   "metadata": {},
   "source": [
    "## Install and Import Dependencies"
   ]
  },
  {
   "cell_type": "code",
   "execution_count": null,
   "metadata": {},
   "outputs": [],
   "source": [
    "# Uncomment the line below to install the dependencies\n",
    "# !pip install -qU numpy pandas scikit-learn torch sentence-transformers wtpsplit datasets"
   ]
  },
  {
   "cell_type": "code",
   "execution_count": null,
   "metadata": {},
   "outputs": [],
   "source": [
    "import numpy as np\n",
    "from datasets import load_dataset\n",
    "from utils import Shortener"
   ]
  },
  {
   "cell_type": "markdown",
   "metadata": {},
   "source": [
    "## Load Data\n",
    "\n",
    "Dataset [link](https://huggingface.co/datasets/ubaada/booksum-complete-cleaned)."
   ]
  },
  {
   "cell_type": "code",
   "execution_count": null,
   "metadata": {},
   "outputs": [
    {
     "name": "stdout",
     "output_type": "stream",
     "text": [
      "BOOK I.\n",
      "\n",
      "\n",
      "    Of Mans First Disobedience, and the Fruit\n",
      "  Of that Forbidden Tree, whose mortal tast\n",
      "  Brought Death into the World, and all our woe,\n",
      "  With loss of EDEN, till one greater Man\n",
      "  Restore us, and regain the blissful Seat,\n",
      "  Sing Heav'nly Muse, that on the secret top\n",
      "  Of OREB, or of SINAI, didst inspire\n",
      "  That Shepherd, who first taught the chosen Seed,\n",
      "  In the Beginning how the Heav'ns and Earth\n",
      "  Rose out of CHAOS: Or if SION Hill\n",
      "  Delight thee more, and SILOA'S Brook that flow'\n"
     ]
    }
   ],
   "source": [
    "dataset_checkpoint = 'ubaada/booksum-complete-cleaned'\n",
    "book_data = load_dataset(dataset_checkpoint, 'books')\n",
    "print(book_data['train'][0]['text'][:500])"
   ]
  },
  {
   "cell_type": "code",
   "execution_count": null,
   "metadata": {},
   "outputs": [],
   "source": [
    "shortener = Shortener()\n",
    "representations = shortener.fit(book_data['train'][0]['text'], num_clusters = 100)\n",
    "representations"
   ]
  }
 ],
 "metadata": {
  "kernelspec": {
   "display_name": ".venv",
   "language": "python",
   "name": "python3"
  },
  "language_info": {
   "codemirror_mode": {
    "name": "ipython",
    "version": 3
   },
   "file_extension": ".py",
   "mimetype": "text/x-python",
   "name": "python",
   "nbconvert_exporter": "python",
   "pygments_lexer": "ipython3",
   "version": "3.13.2"
  }
 },
 "nbformat": 4,
 "nbformat_minor": 2
}
