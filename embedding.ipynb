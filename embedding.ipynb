{
 "cells": [
  {
   "cell_type": "markdown",
   "metadata": {},
   "source": [
    "# Notebook to Embed and Cluster Text Segments"
   ]
  },
  {
   "cell_type": "markdown",
   "metadata": {},
   "source": [
    "## Install and Import Dependencies"
   ]
  },
  {
   "cell_type": "code",
   "execution_count": 1,
   "metadata": {},
   "outputs": [],
   "source": [
    "# Uncomment the line below to install the dependencies\n",
    "# !pip install -qU numpy pandas scikit-learn torch sentence-transformers wtpsplit datasets"
   ]
  },
  {
   "cell_type": "code",
   "execution_count": null,
   "metadata": {},
   "outputs": [],
   "source": [
    "import numpy as np\n",
    "from datasets import load_dataset\n",
    "\n",
    "from utils import get_device, TextPreprocessor, SegmenterEmbedder, BiMapping"
   ]
  },
  {
   "cell_type": "markdown",
   "metadata": {},
   "source": [
    "## Load Data\n",
    "\n",
    "Dataset [link](https://huggingface.co/datasets/ubaada/booksum-complete-cleaned)."
   ]
  },
  {
   "cell_type": "code",
   "execution_count": 3,
   "metadata": {},
   "outputs": [
    {
     "name": "stdout",
     "output_type": "stream",
     "text": [
      "BOOK I.\n",
      "\n",
      "\n",
      "    Of Mans First Disobedience, and the Fruit\n",
      "  Of that Forbidden Tree, whose mortal tast\n",
      "  Brought Death into the World, and all our woe,\n",
      "  With loss of EDEN, till one greater Man\n",
      "  Restore us, and regain the blissful Seat,\n",
      "  Sing Heav'nly Muse, that on the secret top\n",
      "  Of OREB, or of SINAI, didst inspire\n",
      "  That Shepherd, who first taught the chosen Seed,\n",
      "  In the Beginning how the Heav'ns and Earth\n",
      "  Rose out of CHAOS: Or if SION Hill\n",
      "  Delight thee more, and SILOA'S Brook that flow'\n"
     ]
    }
   ],
   "source": [
    "dataset_checkpoint = 'ubaada/booksum-complete-cleaned'\n",
    "book_data = load_dataset(dataset_checkpoint, 'books')\n",
    "print(book_data['train'][0]['text'][:500])"
   ]
  },
  {
   "cell_type": "markdown",
   "metadata": {},
   "source": [
    "## Text Preprocesing"
   ]
  },
  {
   "cell_type": "code",
   "execution_count": 4,
   "metadata": {},
   "outputs": [],
   "source": [
    "preprocessor = TextPreprocessor()"
   ]
  },
  {
   "cell_type": "code",
   "execution_count": 5,
   "metadata": {},
   "outputs": [
    {
     "name": "stdout",
     "output_type": "stream",
     "text": [
      "BOOK I.\n",
      "\n",
      "Of Mans First Disobedience, and the FruitOf that Forbidden Tree, whose mortal tastBrought Death into the World, and all our woe,With loss of EDEN, till one greater ManRestore us, and regain the blissful Seat,Sing Heav'nly Muse, that on the secret topOf OREB, or of SINAI, didst inspireThat Shepherd, who first taught the chosen Seed,In the Beginning how the Heav'ns and EarthRose out of CHAOS: Or if SION HillDelight thee more, and SILOA'S Brook that flow'dFast by the Oracle of God; I thenceInvoke thy aid to my adventrous Song,That with no middle flight intends to soarAbove th'AONIAN Mount, while it pursuesThings unattempted yet in Prose or Rhime.And chiefly Thou O Spirit, that dost preferBefore all Temples th' upright heart and pure,Instruct me, for Thou know'st; Thou from the firstWast present, and with mighty wings outspreadDove-like satst brooding on the vast AbyssAnd mad'st it pregnant: What in me is darkIllumine, what is low raise and support;That to the highth of this great\n"
     ]
    }
   ],
   "source": [
    "preprocessed_text = preprocessor(book_data['train'][0]['text'])\n",
    "print(preprocessed_text[:1000])"
   ]
  },
  {
   "cell_type": "markdown",
   "metadata": {},
   "source": [
    "## Segmentation and Embedding"
   ]
  },
  {
   "cell_type": "code",
   "execution_count": 6,
   "metadata": {},
   "outputs": [
    {
     "data": {
      "text/plain": [
       "'mps'"
      ]
     },
     "execution_count": 6,
     "metadata": {},
     "output_type": "execute_result"
    }
   ],
   "source": [
    "device = get_device()\n",
    "segmenter_embedder = SegmenterEmbedder(device=device)\n",
    "segmenter_embedder.device"
   ]
  },
  {
   "cell_type": "code",
   "execution_count": 7,
   "metadata": {},
   "outputs": [
    {
     "data": {
      "text/plain": [
       "(1055, (1055, 768))"
      ]
     },
     "execution_count": 7,
     "metadata": {},
     "output_type": "execute_result"
    }
   ],
   "source": [
    "segments, embeddings = segmenter_embedder(preprocessed_text)\n",
    "len(segments), embeddings.shape"
   ]
  },
  {
   "cell_type": "markdown",
   "metadata": {},
   "source": [
    "## Crate a Bidirectional Map from Text to Embedding"
   ]
  },
  {
   "cell_type": "code",
   "execution_count": 8,
   "metadata": {},
   "outputs": [],
   "source": [
    "mapping = BiMapping(segments, embeddings)"
   ]
  },
  {
   "cell_type": "code",
   "execution_count": 9,
   "metadata": {},
   "outputs": [
    {
     "data": {
      "text/plain": [
       "(True, np.True_)"
      ]
     },
     "execution_count": 9,
     "metadata": {},
     "output_type": "execute_result"
    }
   ],
   "source": [
    "segment = segments[0]\n",
    "embedding = embeddings[0]\n",
    "segment == mapping[embedding], np.all(embedding == mapping[segment])"
   ]
  },
  {
   "cell_type": "code",
   "execution_count": null,
   "metadata": {},
   "outputs": [],
   "source": []
  }
 ],
 "metadata": {
  "kernelspec": {
   "display_name": "Python 3",
   "language": "python",
   "name": "python3"
  },
  "language_info": {
   "codemirror_mode": {
    "name": "ipython",
    "version": 3
   },
   "file_extension": ".py",
   "mimetype": "text/x-python",
   "name": "python",
   "nbconvert_exporter": "python",
   "pygments_lexer": "ipython3",
   "version": "3.12.2"
  }
 },
 "nbformat": 4,
 "nbformat_minor": 2
}
